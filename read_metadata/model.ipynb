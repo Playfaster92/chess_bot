{
 "cells": [
  {
   "cell_type": "markdown",
   "metadata": {},
   "source": [
    "## Etat initial"
   ]
  },
  {
   "cell_type": "code",
   "execution_count": 2,
   "metadata": {},
   "outputs": [],
   "source": [
    "import numpy as np\n",
    "\n",
    "# Initialiser un tenseur 8x8x12 avec des zéros\n",
    "initial_state = np.zeros((8, 8, 12), dtype=int)\n",
    "insample = np.zeros((1,8,8,12), dtype=int)\n",
    "\n",
    "# Pions blancs (1er étage)\n",
    "initial_state[:, :, 0] = np.array([\n",
    "    [0, 0, 0, 0, 0, 0, 0, 0],\n",
    "    [1, 1, 1, 1, 1, 1, 1, 1],\n",
    "    [0, 0, 0, 0, 0, 0, 0, 0],\n",
    "    [0, 0, 0, 0, 0, 0, 0, 0],\n",
    "    [0, 0, 0, 0, 0, 0, 0, 0],\n",
    "    [0, 0, 0, 0, 0, 0, 0, 0],\n",
    "    [0, 0, 0, 0, 0, 0, 0, 0],\n",
    "    [0, 0, 0, 0, 0, 0, 0, 0]\n",
    "]).T\n",
    "\n",
    "# On transpose pour faciliter l'indexation.\n",
    "\n",
    "# Pions noirs (2e étage)\n",
    "initial_state[:, :, 1] = np.array([\n",
    "    [0, 0, 0, 0, 0, 0, 0, 0],\n",
    "    [0, 0, 0, 0, 0, 0, 0, 0],\n",
    "    [0, 0, 0, 0, 0, 0, 0, 0],\n",
    "    [0, 0, 0, 0, 0, 0, 0, 0],\n",
    "    [0, 0, 0, 0, 0, 0, 0, 0],\n",
    "    [0, 0, 0, 0, 0, 0, 0, 0],\n",
    "    [1, 1, 1, 1, 1, 1, 1, 1],\n",
    "    [0, 0, 0, 0, 0, 0, 0, 0]\n",
    "]).T\n",
    "\n",
    "# Roi blanc (3e étage)\n",
    "initial_state[4, 0, 2] = 1\n",
    "\n",
    "# Roi noir (4e étage)\n",
    "initial_state[4, 7, 3] = 1\n",
    "\n",
    "# Reine blanche (5e étage)\n",
    "initial_state[3, 0, 4] = 1\n",
    "\n",
    "# Reine noire (6e étage)\n",
    "initial_state[3, 7, 5] = 1\n",
    "\n",
    "# Tours blanches (7e étage)\n",
    "initial_state[0, 0, 6] = 1\n",
    "initial_state[7, 0, 6] = 1\n",
    "\n",
    "# Tours noires (8e étage)\n",
    "initial_state[0, 7, 7] = 1\n",
    "initial_state[7, 7, 7] = 1\n",
    "\n",
    "# Fous blancs (9e étage)\n",
    "initial_state[2, 0, 8] = 1\n",
    "initial_state[5, 0, 8] = 1\n",
    "\n",
    "# Fous noirs (10e étage)\n",
    "initial_state[2, 7, 9] = 1\n",
    "initial_state[5, 7, 9] = 1\n",
    "\n",
    "# Cavaliers blancs (11e étage)\n",
    "initial_state[1, 0, 10] = 1\n",
    "initial_state[6, 0, 10] = 1\n",
    "\n",
    "# Cavaliers noirs (12e étage)\n",
    "initial_state[1, 7, 11] = 1\n",
    "initial_state[6, 7, 11] = 1\n",
    "\n",
    "insample[0] = initial_state"
   ]
  },
  {
   "cell_type": "code",
   "execution_count": 3,
   "metadata": {},
   "outputs": [],
   "source": [
    "etage = {\"p\": 0, \"P\": 1,\n",
    "         \"k\": 2, \"K\": 3,\n",
    "         \"q\": 4, \"Q\": 5,\n",
    "         \"r\": 6, \"R\": 7,\n",
    "         \"b\": 8, \"B\": 9,\n",
    "         \"n\":10, \"N\":11 }"
   ]
  },
  {
   "cell_type": "markdown",
   "metadata": {},
   "source": [
    "## Encodage du coup `1 - e4`"
   ]
  },
  {
   "cell_type": "code",
   "execution_count": 4,
   "metadata": {},
   "outputs": [],
   "source": [
    "# e2 de coordonnées (4, 1)\n",
    "# e4 de coordonnées (4, 3)\n",
    "\n",
    "outpos_index = lambda i, j : 8*i + j\n",
    "\n",
    "e4 = np.zeros((64,64), dtype=int)\n",
    "e4[outpos_index(4,1), outpos_index(4,3)] = 1\n",
    "\n",
    "outsample = np.zeros((1,64,64), dtype=int)\n",
    "outsample[0] = e4"
   ]
  },
  {
   "cell_type": "markdown",
   "metadata": {},
   "source": [
    "## Adaptation structure de données"
   ]
  },
  {
   "cell_type": "markdown",
   "metadata": {},
   "source": [
    "### Conversion d'une board"
   ]
  },
  {
   "cell_type": "code",
   "execution_count": 5,
   "metadata": {},
   "outputs": [],
   "source": [
    "import chess.pgn\n",
    "import pandas as pd\n",
    "import numpy as np"
   ]
  },
  {
   "cell_type": "code",
   "execution_count": 6,
   "metadata": {},
   "outputs": [
    {
     "data": {
      "text/plain": [
       "\"Board('rnbqkbnr/pppppppp/8/8/8/8/PPPPPPPP/RNBQKBNR w KQkq - 0 1')\""
      ]
     },
     "execution_count": 6,
     "metadata": {},
     "output_type": "execute_result"
    }
   ],
   "source": [
    "with open(\"aggressive_games_1400.pgn\") as pgn_file:\n",
    "    game0 = chess.pgn.read_game(pgn_file)\n",
    "game0.board().__repr__()"
   ]
  },
  {
   "cell_type": "code",
   "execution_count": 7,
   "metadata": {},
   "outputs": [],
   "source": [
    "def pgn_pos_conv(game):\n",
    "    board = np.zeros((8, 8, 16), dtype=int)\n",
    "    pgn0 = game.board().epd()\n",
    "    splits = pgn0.split(\" \")\n",
    "    pieces, additional = splits[0], splits[1:]\n",
    "    rows = pieces.split(\"/\")\n",
    "    i=0\n",
    "    for row in rows:\n",
    "        j = 0\n",
    "        for piece in row:\n",
    "            if piece.isdigit():\n",
    "                j += int(piece)\n",
    "            else:\n",
    "                board[i, j, etage[piece]] = 1\n",
    "                j += 1\n",
    "        i += 1\n",
    "    # 13e étage - Trait au blanc (1) ou noirs (0)\n",
    "    tour = additional[0]\n",
    "    board[:, :, 12] = np.ones((8,8)) * int(tour == \"w\")\n",
    "\n",
    "    # 14e étage - Possibilité de roquer\n",
    "    roques = additional[1]\n",
    "    board[0:2, :, 13] = np.ones((2,8)) * int(\"K\" in roques)\n",
    "    board[2:4, :, 13] = np.ones((2,8)) * int(\"Q\" in roques)\n",
    "    board[4:6, :, 13] = np.ones((2,8)) * int(\"k\" in roques)\n",
    "    board[6:8, :, 13] = np.ones((2,8)) * int(\"q\" in roques)\n",
    "\n",
    "    # 15e étage - Possibilité de pep pour les blancs\n",
    "    pep = additional[2]\n",
    "    if \"f\" in pep :\n",
    "        row = int(pep[1])\n",
    "        board[row, :, 14] = np.ones(8)\n",
    "    \n",
    "    # 16e étage - Possibilité de pep pour les noirs\n",
    "    if \"c\" in pep :\n",
    "        row = int(pep[1])\n",
    "        board[row, :, 15] = np.ones(8)\n",
    "\n",
    "    return board"
   ]
  },
  {
   "cell_type": "code",
   "execution_count": 8,
   "metadata": {},
   "outputs": [],
   "source": [
    "state = pgn_pos_conv(game0)"
   ]
  },
  {
   "cell_type": "markdown",
   "metadata": {},
   "source": [
    "### Conversion d'un move"
   ]
  },
  {
   "cell_type": "code",
   "execution_count": 9,
   "metadata": {},
   "outputs": [],
   "source": [
    "outpos_index = lambda i, j : 8*i + j\n",
    "\n",
    "def move_encoding(next_node):\n",
    "    res = np.zeros((64, 64))\n",
    "    x = {'a': 0, 'b': 1, 'c': 2, 'd': 3, 'e': 4, 'f': 5, 'g': 6, 'h': 7}\n",
    "    y = {str(i+1) : i for i in range(8)}\n",
    "    \n",
    "    xd, yd, xa, ya = list(str(next_node.move))[:4]\n",
    "    # print(next_node.move)\n",
    "    # print(x[xd], y[yd], x[xa], y[ya])\n",
    "    res[outpos_index( x[xd] , y[yd] ), outpos_index( x[xa] , y[ya] )] = 1\n",
    "    return res"
   ]
  },
  {
   "cell_type": "code",
   "execution_count": 10,
   "metadata": {},
   "outputs": [
    {
     "data": {
      "text/plain": [
       "np.float64(1.0)"
      ]
     },
     "execution_count": 10,
     "metadata": {},
     "output_type": "execute_result"
    }
   ],
   "source": [
    "move_encoding(game0.variation(0))[outpos_index(4,1), outpos_index(4,3)]"
   ]
  },
  {
   "cell_type": "markdown",
   "metadata": {},
   "source": [
    "Cohérent (la partie commence par `1 - e4`)"
   ]
  },
  {
   "cell_type": "markdown",
   "metadata": {},
   "source": [
    "__Nombre de moves__"
   ]
  },
  {
   "cell_type": "code",
   "execution_count": 11,
   "metadata": {},
   "outputs": [],
   "source": [
    "Nmoves = 0\n",
    "\n",
    "node = game0\n",
    "while node.variations:\n",
    "    next_node = node.variation(0)\n",
    "    Nmoves += 1\n",
    "    node = next_node"
   ]
  },
  {
   "cell_type": "code",
   "execution_count": 12,
   "metadata": {},
   "outputs": [],
   "source": [
    "def convert_game(game):\n",
    "    Nmoves = 0\n",
    "\n",
    "    node = game\n",
    "    while node.variations:\n",
    "        next_node = node.variation(0)\n",
    "        Nmoves += 1\n",
    "        node = next_node\n",
    "\n",
    "    states = np.zeros((Nmoves, 8, 8, 16))\n",
    "    moves = np.zeros((Nmoves, 64, 64))\n",
    "\n",
    "    node = game\n",
    "    i = 0\n",
    "    while node.variations:\n",
    "        next_node = node.variation(0)\n",
    "        states[i, :, :, :] = pgn_pos_conv(node)\n",
    "        moves[i, :, :] = move_encoding(next_node)\n",
    "        i += 1\n",
    "        node = next_node\n",
    "    return states, moves"
   ]
  },
  {
   "cell_type": "code",
   "execution_count": 13,
   "metadata": {},
   "outputs": [],
   "source": [
    "states, moves = convert_game(game0)"
   ]
  },
  {
   "cell_type": "markdown",
   "metadata": {},
   "source": [
    "## Modèle de réseau de neurones"
   ]
  },
  {
   "cell_type": "code",
   "execution_count": 21,
   "metadata": {},
   "outputs": [],
   "source": [
    "import tensorflow as tf\n",
    "from tensorflow.keras.models import Sequential\n",
    "from tensorflow.keras.layers import Conv2D, Flatten, Dense, Reshape"
   ]
  },
  {
   "cell_type": "code",
   "execution_count": 25,
   "metadata": {},
   "outputs": [
    {
     "data": {
      "text/html": [
       "<pre style=\"white-space:pre;overflow-x:auto;line-height:normal;font-family:Menlo,'DejaVu Sans Mono',consolas,'Courier New',monospace\"><span style=\"font-weight: bold\">Model: \"sequential_2\"</span>\n",
       "</pre>\n"
      ],
      "text/plain": [
       "\u001b[1mModel: \"sequential_2\"\u001b[0m\n"
      ]
     },
     "metadata": {},
     "output_type": "display_data"
    },
    {
     "data": {
      "text/html": [
       "<pre style=\"white-space:pre;overflow-x:auto;line-height:normal;font-family:Menlo,'DejaVu Sans Mono',consolas,'Courier New',monospace\">┏━━━━━━━━━━━━━━━━━━━━━━━━━━━━━━━━━┳━━━━━━━━━━━━━━━━━━━━━━━━┳━━━━━━━━━━━━━━━┓\n",
       "┃<span style=\"font-weight: bold\"> Layer (type)                    </span>┃<span style=\"font-weight: bold\"> Output Shape           </span>┃<span style=\"font-weight: bold\">       Param # </span>┃\n",
       "┡━━━━━━━━━━━━━━━━━━━━━━━━━━━━━━━━━╇━━━━━━━━━━━━━━━━━━━━━━━━╇━━━━━━━━━━━━━━━┩\n",
       "│ conv2d_4 (<span style=\"color: #0087ff; text-decoration-color: #0087ff\">Conv2D</span>)               │ (<span style=\"color: #00d7ff; text-decoration-color: #00d7ff\">None</span>, <span style=\"color: #00af00; text-decoration-color: #00af00\">6</span>, <span style=\"color: #00af00; text-decoration-color: #00af00\">6</span>, <span style=\"color: #00af00; text-decoration-color: #00af00\">32</span>)       │         <span style=\"color: #00af00; text-decoration-color: #00af00\">4,640</span> │\n",
       "├─────────────────────────────────┼────────────────────────┼───────────────┤\n",
       "│ conv2d_5 (<span style=\"color: #0087ff; text-decoration-color: #0087ff\">Conv2D</span>)               │ (<span style=\"color: #00d7ff; text-decoration-color: #00d7ff\">None</span>, <span style=\"color: #00af00; text-decoration-color: #00af00\">4</span>, <span style=\"color: #00af00; text-decoration-color: #00af00\">4</span>, <span style=\"color: #00af00; text-decoration-color: #00af00\">64</span>)       │        <span style=\"color: #00af00; text-decoration-color: #00af00\">18,496</span> │\n",
       "├─────────────────────────────────┼────────────────────────┼───────────────┤\n",
       "│ flatten_2 (<span style=\"color: #0087ff; text-decoration-color: #0087ff\">Flatten</span>)             │ (<span style=\"color: #00d7ff; text-decoration-color: #00d7ff\">None</span>, <span style=\"color: #00af00; text-decoration-color: #00af00\">1024</span>)           │             <span style=\"color: #00af00; text-decoration-color: #00af00\">0</span> │\n",
       "├─────────────────────────────────┼────────────────────────┼───────────────┤\n",
       "│ dense_4 (<span style=\"color: #0087ff; text-decoration-color: #0087ff\">Dense</span>)                 │ (<span style=\"color: #00d7ff; text-decoration-color: #00d7ff\">None</span>, <span style=\"color: #00af00; text-decoration-color: #00af00\">128</span>)            │       <span style=\"color: #00af00; text-decoration-color: #00af00\">131,200</span> │\n",
       "├─────────────────────────────────┼────────────────────────┼───────────────┤\n",
       "│ dense_5 (<span style=\"color: #0087ff; text-decoration-color: #0087ff\">Dense</span>)                 │ (<span style=\"color: #00d7ff; text-decoration-color: #00d7ff\">None</span>, <span style=\"color: #00af00; text-decoration-color: #00af00\">4096</span>)           │       <span style=\"color: #00af00; text-decoration-color: #00af00\">528,384</span> │\n",
       "├─────────────────────────────────┼────────────────────────┼───────────────┤\n",
       "│ reshape_2 (<span style=\"color: #0087ff; text-decoration-color: #0087ff\">Reshape</span>)             │ (<span style=\"color: #00d7ff; text-decoration-color: #00d7ff\">None</span>, <span style=\"color: #00af00; text-decoration-color: #00af00\">64</span>, <span style=\"color: #00af00; text-decoration-color: #00af00\">64</span>)         │             <span style=\"color: #00af00; text-decoration-color: #00af00\">0</span> │\n",
       "└─────────────────────────────────┴────────────────────────┴───────────────┘\n",
       "</pre>\n"
      ],
      "text/plain": [
       "┏━━━━━━━━━━━━━━━━━━━━━━━━━━━━━━━━━┳━━━━━━━━━━━━━━━━━━━━━━━━┳━━━━━━━━━━━━━━━┓\n",
       "┃\u001b[1m \u001b[0m\u001b[1mLayer (type)                   \u001b[0m\u001b[1m \u001b[0m┃\u001b[1m \u001b[0m\u001b[1mOutput Shape          \u001b[0m\u001b[1m \u001b[0m┃\u001b[1m \u001b[0m\u001b[1m      Param #\u001b[0m\u001b[1m \u001b[0m┃\n",
       "┡━━━━━━━━━━━━━━━━━━━━━━━━━━━━━━━━━╇━━━━━━━━━━━━━━━━━━━━━━━━╇━━━━━━━━━━━━━━━┩\n",
       "│ conv2d_4 (\u001b[38;5;33mConv2D\u001b[0m)               │ (\u001b[38;5;45mNone\u001b[0m, \u001b[38;5;34m6\u001b[0m, \u001b[38;5;34m6\u001b[0m, \u001b[38;5;34m32\u001b[0m)       │         \u001b[38;5;34m4,640\u001b[0m │\n",
       "├─────────────────────────────────┼────────────────────────┼───────────────┤\n",
       "│ conv2d_5 (\u001b[38;5;33mConv2D\u001b[0m)               │ (\u001b[38;5;45mNone\u001b[0m, \u001b[38;5;34m4\u001b[0m, \u001b[38;5;34m4\u001b[0m, \u001b[38;5;34m64\u001b[0m)       │        \u001b[38;5;34m18,496\u001b[0m │\n",
       "├─────────────────────────────────┼────────────────────────┼───────────────┤\n",
       "│ flatten_2 (\u001b[38;5;33mFlatten\u001b[0m)             │ (\u001b[38;5;45mNone\u001b[0m, \u001b[38;5;34m1024\u001b[0m)           │             \u001b[38;5;34m0\u001b[0m │\n",
       "├─────────────────────────────────┼────────────────────────┼───────────────┤\n",
       "│ dense_4 (\u001b[38;5;33mDense\u001b[0m)                 │ (\u001b[38;5;45mNone\u001b[0m, \u001b[38;5;34m128\u001b[0m)            │       \u001b[38;5;34m131,200\u001b[0m │\n",
       "├─────────────────────────────────┼────────────────────────┼───────────────┤\n",
       "│ dense_5 (\u001b[38;5;33mDense\u001b[0m)                 │ (\u001b[38;5;45mNone\u001b[0m, \u001b[38;5;34m4096\u001b[0m)           │       \u001b[38;5;34m528,384\u001b[0m │\n",
       "├─────────────────────────────────┼────────────────────────┼───────────────┤\n",
       "│ reshape_2 (\u001b[38;5;33mReshape\u001b[0m)             │ (\u001b[38;5;45mNone\u001b[0m, \u001b[38;5;34m64\u001b[0m, \u001b[38;5;34m64\u001b[0m)         │             \u001b[38;5;34m0\u001b[0m │\n",
       "└─────────────────────────────────┴────────────────────────┴───────────────┘\n"
      ]
     },
     "metadata": {},
     "output_type": "display_data"
    },
    {
     "data": {
      "text/html": [
       "<pre style=\"white-space:pre;overflow-x:auto;line-height:normal;font-family:Menlo,'DejaVu Sans Mono',consolas,'Courier New',monospace\"><span style=\"font-weight: bold\"> Total params: </span><span style=\"color: #00af00; text-decoration-color: #00af00\">682,720</span> (2.60 MB)\n",
       "</pre>\n"
      ],
      "text/plain": [
       "\u001b[1m Total params: \u001b[0m\u001b[38;5;34m682,720\u001b[0m (2.60 MB)\n"
      ]
     },
     "metadata": {},
     "output_type": "display_data"
    },
    {
     "data": {
      "text/html": [
       "<pre style=\"white-space:pre;overflow-x:auto;line-height:normal;font-family:Menlo,'DejaVu Sans Mono',consolas,'Courier New',monospace\"><span style=\"font-weight: bold\"> Trainable params: </span><span style=\"color: #00af00; text-decoration-color: #00af00\">682,720</span> (2.60 MB)\n",
       "</pre>\n"
      ],
      "text/plain": [
       "\u001b[1m Trainable params: \u001b[0m\u001b[38;5;34m682,720\u001b[0m (2.60 MB)\n"
      ]
     },
     "metadata": {},
     "output_type": "display_data"
    },
    {
     "data": {
      "text/html": [
       "<pre style=\"white-space:pre;overflow-x:auto;line-height:normal;font-family:Menlo,'DejaVu Sans Mono',consolas,'Courier New',monospace\"><span style=\"font-weight: bold\"> Non-trainable params: </span><span style=\"color: #00af00; text-decoration-color: #00af00\">0</span> (0.00 B)\n",
       "</pre>\n"
      ],
      "text/plain": [
       "\u001b[1m Non-trainable params: \u001b[0m\u001b[38;5;34m0\u001b[0m (0.00 B)\n"
      ]
     },
     "metadata": {},
     "output_type": "display_data"
    }
   ],
   "source": [
    "model = Sequential([\n",
    "    Conv2D(32, kernel_size=(3, 3), activation='relu', input_shape=(8, 8, 16)),\n",
    "    Conv2D(64, kernel_size=(3, 3), activation='relu'),\n",
    "    Flatten(),\n",
    "    Dense(128, activation='relu'),\n",
    "    Dense(64 * 64, activation='softmax'),\n",
    "    Reshape((64, 64))\n",
    "])\n",
    "\n",
    "model.compile(optimizer='adam', loss='categorical_crossentropy', metrics=['accuracy'])\n",
    "\n",
    "# Afficher un résumé du modèle\n",
    "model.summary()"
   ]
  },
  {
   "cell_type": "markdown",
   "metadata": {},
   "source": [
    "## Entrainement du modèle (sans pré-clustering)"
   ]
  },
  {
   "cell_type": "markdown",
   "metadata": {},
   "source": [
    "### Nombre de games"
   ]
  },
  {
   "cell_type": "code",
   "execution_count": 20,
   "metadata": {},
   "outputs": [
    {
     "data": {
      "text/plain": [
       "8062"
      ]
     },
     "execution_count": 20,
     "metadata": {},
     "output_type": "execute_result"
    }
   ],
   "source": [
    "N_games = 0\n",
    "with open(\"aggressive_games_1400.pgn\") as pgn_file:\n",
    "    game = chess.pgn.read_game(pgn_file)\n",
    "    while game :\n",
    "        N_games += 1\n",
    "        game = chess.pgn.read_game(pgn_file)\n",
    "N_games"
   ]
  },
  {
   "cell_type": "code",
   "execution_count": 26,
   "metadata": {},
   "outputs": [],
   "source": [
    "N_test = 8062//5\n",
    "\n",
    "with open(\"aggressive_games_1400.pgn\") as pgn_file:\n",
    "    \n",
    "    # On skippe les games de test.\n",
    "    for _ in range(N_test) :\n",
    "        chess.pgn.read_game(pgn_file)\n",
    "\n",
    "    n_game=1\n",
    "    game = chess.pgn.read_game(pgn_file)\n",
    "    \n",
    "    # Puis on s'entraine sur le sample.\n",
    "    while game :\n",
    "        states, moves = convert_game(game)\n",
    "        model.fit(states, moves, epochs=1, batch_size=1)\n",
    "        game = chess.pgn.read_game(pgn_file)\n",
    "        if n_game%10==0 : print(f\"---------------------------------- {n_game} ----------------------------------\")\n",
    "        n_game += 1\n",
    "    \n",
    "model_fname = \"agressive_bot.h5\"\n",
    "model.save(model_fname)"
   ]
  },
  {
   "cell_type": "markdown",
   "metadata": {},
   "source": [
    "### Sauvegarde du modèle"
   ]
  },
  {
   "cell_type": "code",
   "execution_count": null,
   "metadata": {},
   "outputs": [],
   "source": [
    "model_fname = \"agressive_bot.h5\"\n",
    "model.save(model_fname)"
   ]
  },
  {
   "cell_type": "markdown",
   "metadata": {},
   "source": [
    "---\n",
    "\n",
    "Pour importer le modèle :\n",
    "\n",
    "```python\n",
    "from tensorflow.keras.models import load_model\n",
    "\n",
    "# Load the entire model\n",
    "loaded_model = load_model('my_model.h5')\n",
    "```\n",
    "---"
   ]
  },
  {
   "cell_type": "code",
   "execution_count": 147,
   "metadata": {},
   "outputs": [
    {
     "name": "stdout",
     "output_type": "stream",
     "text": [
      "\u001b[1m2/2\u001b[0m \u001b[32m━━━━━━━━━━━━━━━━━━━━\u001b[0m\u001b[37m\u001b[0m \u001b[1m0s\u001b[0m 180ms/step\n"
     ]
    },
    {
     "data": {
      "text/plain": [
       "((np.int64(1), np.int64(7)), (np.int64(2), np.int64(5)))"
      ]
     },
     "execution_count": 147,
     "metadata": {},
     "output_type": "execute_result"
    }
   ],
   "source": [
    "rev_outpos_index = lambda n : (n//8, n%8)\n",
    "\n",
    "prediction = model.predict(states[0:, :, :, :])[0]\n",
    "argmax = prediction.argmax()\n",
    "\n",
    "dep, arr = np.unravel_index(argmax, prediction.shape)\n",
    "rev_outpos_index(dep), rev_outpos_index(arr)"
   ]
  }
 ],
 "metadata": {
  "kernelspec": {
   "display_name": "Python 3",
   "language": "python",
   "name": "python3"
  },
  "language_info": {
   "codemirror_mode": {
    "name": "ipython",
    "version": 3
   },
   "file_extension": ".py",
   "mimetype": "text/x-python",
   "name": "python",
   "nbconvert_exporter": "python",
   "pygments_lexer": "ipython3",
   "version": "3.9.6"
  }
 },
 "nbformat": 4,
 "nbformat_minor": 2
}
