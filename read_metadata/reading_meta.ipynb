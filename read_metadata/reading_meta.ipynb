{
 "cells": [
  {
   "cell_type": "code",
   "execution_count": 2,
   "metadata": {},
   "outputs": [],
   "source": [
    "import chess.pgn\n",
    "import pandas as pd\n",
    "import numpy as np"
   ]
  },
  {
   "cell_type": "markdown",
   "metadata": {},
   "source": [
    "## Exemple de lecture d'une game"
   ]
  },
  {
   "cell_type": "code",
   "execution_count": 3,
   "metadata": {},
   "outputs": [
    {
     "name": "stdout",
     "output_type": "stream",
     "text": [
      "Headers(Event='Rated Classical game', Site='https://lichess.org/j1dkb5dw', Date='????.??.??', Round='?', White='BFG9k', Black='mamalak', Result='1-0', UTCDate='2012.12.31', UTCTime='23:01:03', WhiteElo='1639', BlackElo='1403', WhiteRatingDiff='+5', BlackRatingDiff='-8', ECO='C00', Opening='French Defense: Normal Variation', TimeControl='600+8', Termination='Normal')\n",
      "1. e4 e6 2. d4 b6 3. a3 Bb7 4. Nc3 Nh6 5. Bxh6 gxh6 6. Be2 Qg5 7. Bg4 h5 8. Nf3 Qg6 9. Nh4 Qg5 10. Bxh5 Qxh4 11. Qf3 Kd8 12. Qxf7 Nc6 13. Qe8#\n",
      "1. e4 e6 2. d4 b6 3. a3 Bb7 4. Nc3 Nh6 5. Bxh6 gxh6 6. Be2 Qg5 7. Bg4 h5 8. Nf3 Qg6 9. Nh4 Qg5 10. Bxh5 Qxh4 11. Qf3 Kd8 12. Qxf7 Nc6 13. Qe8#\n"
     ]
    }
   ],
   "source": [
    "with open(\"game_data_2013_01.pgn\") as pgn_file:\n",
    "    game = chess.pgn.read_game(pgn_file)\n",
    "\n",
    "print(game.headers)\n",
    "print(game.mainline_moves())\n",
    "print(str(game.mainline_moves()))"
   ]
  },
  {
   "cell_type": "markdown",
   "metadata": {},
   "source": [
    "## Quelles features des metadatas sont à garder ?\n",
    "\n",
    "- White\n",
    "- Black\n",
    "- Result\n",
    "- UTCDate\n",
    "- UTCTime\n",
    "- WhiteElo\n",
    "- BlackElo\n",
    "- Opening\n",
    "- TimeControl\n",
    "- Termination"
   ]
  },
  {
   "cell_type": "code",
   "execution_count": 13,
   "metadata": {},
   "outputs": [
    {
     "data": {
      "text/plain": [
       "White          object\n",
       "Black          object\n",
       "Result         object\n",
       "UTCDate        object\n",
       "UTCTime        object\n",
       "WhiteElo       object\n",
       "BlackElo       object\n",
       "ECO            object\n",
       "Opening        object\n",
       "TimeControl    object\n",
       "Termination    object\n",
       "dtype: object"
      ]
     },
     "execution_count": 13,
     "metadata": {},
     "output_type": "execute_result"
    }
   ],
   "source": [
    "categories = [\"White\", \"Black\", \"Result\", \"UTCDate\", \"UTCTime\", \"WhiteElo\", \"BlackElo\", \"ECO\", \"Opening\", \"TimeControl\", \"Termination\"]\n",
    "int_categories = [\"WhiteElo\", \"BlackElo\"]\n",
    "df = pd.DataFrame(columns=tuple(categories+[\"Game\"]))\n",
    "games_list = []\n",
    "NUMB_GAMES = 1000\n",
    "\n",
    "with open(\"game_data_2013_01.pgn\") as pgn_file:\n",
    "    n_game=1\n",
    "    game = chess.pgn.read_game(pgn_file)\n",
    "    while game and n_game < NUMB_GAMES :\n",
    "        #moves = str(game.mainline_moves())\n",
    "        entry = {c:game.headers.get(c,\"\") for c in categories}\n",
    "        #entry[\"Game\"] = moves\n",
    "        games_list.append(entry)\n",
    "        n_game += 1\n",
    "        game = chess.pgn.read_game(pgn_file)\n",
    "\n",
    "df = pd.DataFrame(games_list)\n",
    "df.dtypes"
   ]
  },
  {
   "cell_type": "code",
   "execution_count": 12,
   "metadata": {},
   "outputs": [
    {
     "data": {
      "text/plain": [
       "White                  object\n",
       "Black                  object\n",
       "Result                 object\n",
       "UTCDate        datetime64[ns]\n",
       "UTCTime                object\n",
       "WhiteElo                Int64\n",
       "BlackElo                Int64\n",
       "ECO                    object\n",
       "Opening                object\n",
       "TimeControl            object\n",
       "Termination            object\n",
       "dtype: object"
      ]
     },
     "execution_count": 12,
     "metadata": {},
     "output_type": "execute_result"
    }
   ],
   "source": [
    "### Conversion données\n",
    "\n",
    "df[[\"White\", \"Black\", \"Result\", \"ECO\",\n",
    "    \"Opening\", \"TimeControl\", \"Termination\"]] = df[[\"White\", \"Black\", \"Result\", \"ECO\",\n",
    "                                                    \"Opening\", \"TimeControl\", \"Termination\"]].astype(str)\n",
    "\n",
    "df.UTCDate = pd.to_datetime(df.UTCDate, format= '%Y.%m.%d')\n",
    "df.UTCTime = pd.to_datetime(df.UTCTime, format= '%H:%M:%S').dt.time\n",
    "\n",
    "df[[\"WhiteElo\", \"BlackElo\"]] = df[[\"WhiteElo\", \"BlackElo\"]].replace(\"?\", np.nan)\n",
    "df.WhiteElo = pd.to_numeric(df.WhiteElo, errors=\"coerce\").astype(\"Int64\")\n",
    "df.BlackElo = pd.to_numeric(df.BlackElo, errors=\"coerce\").astype(\"Int64\")\n",
    "\n",
    "df.dtypes"
   ]
  },
  {
   "cell_type": "markdown",
   "metadata": {},
   "source": [
    "## Visualisation des données"
   ]
  },
  {
   "cell_type": "code",
   "execution_count": 8,
   "metadata": {},
   "outputs": [],
   "source": [
    "import matplotlib.pyplot as plt"
   ]
  },
  {
   "cell_type": "markdown",
   "metadata": {},
   "source": [
    "### ELO équilibrés ?"
   ]
  },
  {
   "cell_type": "code",
   "execution_count": null,
   "metadata": {},
   "outputs": [
    {
     "data": {
      "image/png": "[encoded data removed]",
      "text/plain": [
       "<Figure size 640x480 with 1 Axes>"
      ]
     },
     "metadata": {},
     "output_type": "display_data"
    }
   ],
   "source": [
    "df[[\"WhiteElo\",\"BlackElo\"]].plot.hist(bins=20, alpha=0.3)"
   ]
  },
  {
   "cell_type": "markdown",
   "metadata": {},
   "source": [
    "Une plage elo entre 1400 et 1600 semble pertinente"
   ]
  },
  {
   "cell_type": "markdown",
   "metadata": {},
   "source": [
    "### Combien de gambits ?"
   ]
  },
  {
   "cell_type": "code",
   "execution_count": null,
   "metadata": {},
   "outputs": [
    {
     "data": {
      "text/plain": [
       "157"
      ]
     },
     "execution_count": 10,
     "metadata": {},
     "output_type": "execute_result"
    }
   ],
   "source": [
    "df.Opening.str.contains(\"Gambit\").sum()"
   ]
  },
  {
   "cell_type": "code",
   "execution_count": 27,
   "metadata": {},
   "outputs": [
    {
     "data": {
      "text/plain": [
       "<bound method IndexOpsMixin.value_counts of 9      Englund Gambit Complex: Hartlaub-Charlick Gambit\n",
       "20                                        King's Gambit\n",
       "23          Queen's Gambit Accepted: Saduleto Variation\n",
       "40           Italian Game: Evans Gambit, Lasker Defense\n",
       "43                  Alekhine Defense: John Tracy Gambit\n",
       "                             ...                       \n",
       "977            Queen's Gambit Refused: Marshall Defense\n",
       "979      King's Gambit Declined, Queen's Knight Defense\n",
       "996                                       King's Gambit\n",
       "997         Queen's Gambit Accepted: Saduleto Variation\n",
       "998                                     Elephant Gambit\n",
       "Name: Opening, Length: 157, dtype: object>"
      ]
     },
     "execution_count": 27,
     "metadata": {},
     "output_type": "execute_result"
    }
   ],
   "source": [
    "df[df.Opening.str.contains(\"Gambit\")].Opening.value_counts"
   ]
  },
  {
   "cell_type": "code",
   "execution_count": null,
   "metadata": {},
   "outputs": [
    {
     "data": {
      "text/html": [
       "<div>\n",
       "<style scoped>\n",
       "    .dataframe tbody tr th:only-of-type {\n",
       "        vertical-align: middle;\n",
       "    }\n",
       "\n",
       "    .dataframe tbody tr th {\n",
       "        vertical-align: top;\n",
       "    }\n",
       "\n",
       "    .dataframe thead th {\n",
       "        text-align: right;\n",
       "    }\n",
       "</style>\n",
       "<table border=\"1\" class=\"dataframe\">\n",
       "  <thead>\n",
       "    <tr style=\"text-align: right;\">\n",
       "      <th></th>\n",
       "      <th>White</th>\n",
       "      <th>Black</th>\n",
       "      <th>Result</th>\n",
       "      <th>UTCDate</th>\n",
       "      <th>UTCTime</th>\n",
       "      <th>WhiteElo</th>\n",
       "      <th>BlackElo</th>\n",
       "      <th>ECO</th>\n",
       "      <th>Opening</th>\n",
       "      <th>TimeControl</th>\n",
       "      <th>Termination</th>\n",
       "      <th>Game</th>\n",
       "    </tr>\n",
       "  </thead>\n",
       "  <tbody>\n",
       "    <tr>\n",
       "      <th>5</th>\n",
       "      <td>sport</td>\n",
       "      <td>shamirbj</td>\n",
       "      <td>1-0</td>\n",
       "      <td>2012-12-31</td>\n",
       "      <td>23:09:21</td>\n",
       "      <td>1477</td>\n",
       "      <td>1487</td>\n",
       "      <td>B00</td>\n",
       "      <td>Owen Defense</td>\n",
       "      <td>300+3</td>\n",
       "      <td>Time forfeit</td>\n",
       "      <td>1. e4 b6 2. Bc4 Bb7 3. d3 Nh6 4. Bxh6 gxh6 5. ...</td>\n",
       "    </tr>\n",
       "    <tr>\n",
       "      <th>6</th>\n",
       "      <td>tiggran</td>\n",
       "      <td>arion_6</td>\n",
       "      <td>0-1</td>\n",
       "      <td>2012-12-31</td>\n",
       "      <td>23:02:14</td>\n",
       "      <td>1541</td>\n",
       "      <td>1500</td>\n",
       "      <td>C53</td>\n",
       "      <td>Italian Game: Classical Variation, Giuoco Pian...</td>\n",
       "      <td>300+0</td>\n",
       "      <td>Normal</td>\n",
       "      <td>1. e4 e5 2. Nf3 Nc6 3. Bc4 Nf6 4. d3 Bc5 5. c3...</td>\n",
       "    </tr>\n",
       "    <tr>\n",
       "      <th>9</th>\n",
       "      <td>adamsrj</td>\n",
       "      <td>hamiakaz</td>\n",
       "      <td>0-1</td>\n",
       "      <td>2012-12-31</td>\n",
       "      <td>23:02:48</td>\n",
       "      <td>1522</td>\n",
       "      <td>1428</td>\n",
       "      <td>A40</td>\n",
       "      <td>Englund Gambit Complex: Hartlaub-Charlick Gambit</td>\n",
       "      <td>180+5</td>\n",
       "      <td>Normal</td>\n",
       "      <td>1. d4 e5 2. dxe5 d6 3. exd6 Bxd6 4. Nf3 Nf6 5....</td>\n",
       "    </tr>\n",
       "    <tr>\n",
       "      <th>13</th>\n",
       "      <td>Abd0</td>\n",
       "      <td>Killi</td>\n",
       "      <td>1-0</td>\n",
       "      <td>2012-12-31</td>\n",
       "      <td>23:08:21</td>\n",
       "      <td>1436</td>\n",
       "      <td>1506</td>\n",
       "      <td>C60</td>\n",
       "      <td>Ruy Lopez: Cozio Defense</td>\n",
       "      <td>420+0</td>\n",
       "      <td>Normal</td>\n",
       "      <td>1. e4 e5 2. Nf3 Nc6 3. Bb5 Nge7 4. Nc3 h6 5. N...</td>\n",
       "    </tr>\n",
       "    <tr>\n",
       "      <th>19</th>\n",
       "      <td>Killi</td>\n",
       "      <td>Abd0</td>\n",
       "      <td>1-0</td>\n",
       "      <td>2012-12-31</td>\n",
       "      <td>23:16:04</td>\n",
       "      <td>1492</td>\n",
       "      <td>1451</td>\n",
       "      <td>C24</td>\n",
       "      <td>Bishop's Opening: Berlin Defense</td>\n",
       "      <td>420+0</td>\n",
       "      <td>Normal</td>\n",
       "      <td>1. e4 e5 2. Bc4 Nf6 3. d3 Bc5 4. Bg5 Bxf2+ 5. ...</td>\n",
       "    </tr>\n",
       "    <tr>\n",
       "      <th>...</th>\n",
       "      <td>...</td>\n",
       "      <td>...</td>\n",
       "      <td>...</td>\n",
       "      <td>...</td>\n",
       "      <td>...</td>\n",
       "      <td>...</td>\n",
       "      <td>...</td>\n",
       "      <td>...</td>\n",
       "      <td>...</td>\n",
       "      <td>...</td>\n",
       "      <td>...</td>\n",
       "      <td>...</td>\n",
       "    </tr>\n",
       "    <tr>\n",
       "      <th>954</th>\n",
       "      <td>Dipankar</td>\n",
       "      <td>ale226571</td>\n",
       "      <td>0-1</td>\n",
       "      <td>2013-01-01</td>\n",
       "      <td>08:39:43</td>\n",
       "      <td>1482</td>\n",
       "      <td>1529</td>\n",
       "      <td>C20</td>\n",
       "      <td>King's Pawn Game: Leonardis Variation</td>\n",
       "      <td>300+3</td>\n",
       "      <td>Normal</td>\n",
       "      <td>1. e4 e5 2. d3 Nc6 3. f4 exf4 4. Bxf4 Bd6 5. B...</td>\n",
       "    </tr>\n",
       "    <tr>\n",
       "      <th>957</th>\n",
       "      <td>ale226571</td>\n",
       "      <td>Dipankar</td>\n",
       "      <td>1-0</td>\n",
       "      <td>2013-01-01</td>\n",
       "      <td>08:41:51</td>\n",
       "      <td>1529</td>\n",
       "      <td>1482</td>\n",
       "      <td>B01</td>\n",
       "      <td>Scandinavian Defense: Mieses-Kotroc Variation</td>\n",
       "      <td>300+3</td>\n",
       "      <td>Normal</td>\n",
       "      <td>1. e4 d5 2. exd5 Qxd5 3. Nc3 Qe6+ 4. Nge2 Nc6 ...</td>\n",
       "    </tr>\n",
       "    <tr>\n",
       "      <th>973</th>\n",
       "      <td>Dipankar</td>\n",
       "      <td>ale226571</td>\n",
       "      <td>1-0</td>\n",
       "      <td>2013-01-01</td>\n",
       "      <td>08:57:35</td>\n",
       "      <td>1472</td>\n",
       "      <td>1539</td>\n",
       "      <td>C45</td>\n",
       "      <td>Scotch Game: Schmidt Variation</td>\n",
       "      <td>300+3</td>\n",
       "      <td>Normal</td>\n",
       "      <td>1. e4 e5 2. Nf3 Nc6 3. d4 exd4 4. Nxd4 Nf6 5. ...</td>\n",
       "    </tr>\n",
       "    <tr>\n",
       "      <th>974</th>\n",
       "      <td>Svetlana</td>\n",
       "      <td>Andrandand</td>\n",
       "      <td>1-0</td>\n",
       "      <td>2013-01-01</td>\n",
       "      <td>08:58:06</td>\n",
       "      <td>1515</td>\n",
       "      <td>1553</td>\n",
       "      <td>C24</td>\n",
       "      <td>Bishop's Opening: Berlin Defense</td>\n",
       "      <td>420+3</td>\n",
       "      <td>Time forfeit</td>\n",
       "      <td>1. e4 e5 2. Bc4 Nf6 3. d3 h6 4. a3 d6 5. h3 Qe...</td>\n",
       "    </tr>\n",
       "    <tr>\n",
       "      <th>994</th>\n",
       "      <td>Dipankar</td>\n",
       "      <td>metrolog</td>\n",
       "      <td>0-1</td>\n",
       "      <td>2013-01-01</td>\n",
       "      <td>09:14:17</td>\n",
       "      <td>1485</td>\n",
       "      <td>1410</td>\n",
       "      <td>B01</td>\n",
       "      <td>Scandinavian Defense: Mieses-Kotroc Variation</td>\n",
       "      <td>300+3</td>\n",
       "      <td>Normal</td>\n",
       "      <td>1. e4 d5 2. exd5 Qxd5 3. Nf3 Qd8 4. Bc4 e6 5. ...</td>\n",
       "    </tr>\n",
       "  </tbody>\n",
       "</table>\n",
       "<p>145 rows × 12 columns</p>\n",
       "</div>"
      ],
      "text/plain": [
       "         White       Black Result    UTCDate   UTCTime  WhiteElo  BlackElo  \\\n",
       "5        sport    shamirbj    1-0 2012-12-31  23:09:21      1477      1487   \n",
       "6      tiggran     arion_6    0-1 2012-12-31  23:02:14      1541      1500   \n",
       "9      adamsrj    hamiakaz    0-1 2012-12-31  23:02:48      1522      1428   \n",
       "13        Abd0       Killi    1-0 2012-12-31  23:08:21      1436      1506   \n",
       "19       Killi        Abd0    1-0 2012-12-31  23:16:04      1492      1451   \n",
       "..         ...         ...    ...        ...       ...       ...       ...   \n",
       "954   Dipankar   ale226571    0-1 2013-01-01  08:39:43      1482      1529   \n",
       "957  ale226571    Dipankar    1-0 2013-01-01  08:41:51      1529      1482   \n",
       "973   Dipankar   ale226571    1-0 2013-01-01  08:57:35      1472      1539   \n",
       "974   Svetlana  Andrandand    1-0 2013-01-01  08:58:06      1515      1553   \n",
       "994   Dipankar    metrolog    0-1 2013-01-01  09:14:17      1485      1410   \n",
       "\n",
       "     ECO                                            Opening TimeControl  \\\n",
       "5    B00                                       Owen Defense       300+3   \n",
       "6    C53  Italian Game: Classical Variation, Giuoco Pian...       300+0   \n",
       "9    A40   Englund Gambit Complex: Hartlaub-Charlick Gambit       180+5   \n",
       "13   C60                           Ruy Lopez: Cozio Defense       420+0   \n",
       "19   C24                   Bishop's Opening: Berlin Defense       420+0   \n",
       "..   ...                                                ...         ...   \n",
       "954  C20              King's Pawn Game: Leonardis Variation       300+3   \n",
       "957  B01      Scandinavian Defense: Mieses-Kotroc Variation       300+3   \n",
       "973  C45                     Scotch Game: Schmidt Variation       300+3   \n",
       "974  C24                   Bishop's Opening: Berlin Defense       420+3   \n",
       "994  B01      Scandinavian Defense: Mieses-Kotroc Variation       300+3   \n",
       "\n",
       "      Termination                                               Game  \n",
       "5    Time forfeit  1. e4 b6 2. Bc4 Bb7 3. d3 Nh6 4. Bxh6 gxh6 5. ...  \n",
       "6          Normal  1. e4 e5 2. Nf3 Nc6 3. Bc4 Nf6 4. d3 Bc5 5. c3...  \n",
       "9          Normal  1. d4 e5 2. dxe5 d6 3. exd6 Bxd6 4. Nf3 Nf6 5....  \n",
       "13         Normal  1. e4 e5 2. Nf3 Nc6 3. Bb5 Nge7 4. Nc3 h6 5. N...  \n",
       "19         Normal  1. e4 e5 2. Bc4 Nf6 3. d3 Bc5 4. Bg5 Bxf2+ 5. ...  \n",
       "..            ...                                                ...  \n",
       "954        Normal  1. e4 e5 2. d3 Nc6 3. f4 exf4 4. Bxf4 Bd6 5. B...  \n",
       "957        Normal  1. e4 d5 2. exd5 Qxd5 3. Nc3 Qe6+ 4. Nge2 Nc6 ...  \n",
       "973        Normal  1. e4 e5 2. Nf3 Nc6 3. d4 exd4 4. Nxd4 Nf6 5. ...  \n",
       "974  Time forfeit  1. e4 e5 2. Bc4 Nf6 3. d3 h6 4. a3 d6 5. h3 Qe...  \n",
       "994        Normal  1. e4 d5 2. exd5 Qxd5 3. Nf3 Qd8 4. Bc4 e6 5. ...  \n",
       "\n",
       "[145 rows x 12 columns]"
      ]
     },
     "execution_count": 31,
     "metadata": {},
     "output_type": "execute_result"
    }
   ],
   "source": [
    "tars = df[(df.WhiteElo > 1400) & (df.WhiteElo < 1600) & (df.BlackElo > 1400) & (df.BlackElo < 1600) & ]\n",
    "tars"
   ]
  }
 ],
 "metadata": {
  "kernelspec": {
   "display_name": "Python 3",
   "language": "python",
   "name": "python3"
  },
  "language_info": {
   "codemirror_mode": {
    "name": "ipython",
    "version": 3
   },
   "file_extension": ".py",
   "mimetype": "text/x-python",
   "name": "python",
   "nbconvert_exporter": "python",
   "pygments_lexer": "ipython3",
   "version": "3.9.6"
  }
 },
 "nbformat": 4,
 "nbformat_minor": 2
}
