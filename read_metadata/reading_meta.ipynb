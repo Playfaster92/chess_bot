{
 "cells": [
  {
   "cell_type": "code",
   "execution_count": 19,
   "metadata": {},
   "outputs": [],
   "source": [
    "import chess.pgn\n",
    "import pandas as pd\n",
    "import numpy as np"
   ]
  },
  {
   "cell_type": "markdown",
   "metadata": {},
   "source": [
    "## Exemple de lecture d'une game"
   ]
  },
  {
   "cell_type": "code",
   "execution_count": 4,
   "metadata": {},
   "outputs": [
    {
     "name": "stdout",
     "output_type": "stream",
     "text": [
      "Headers(Event='Rated Classical game', Site='https://lichess.org/j1dkb5dw', Date='????.??.??', Round='?', White='BFG9k', Black='mamalak', Result='1-0', UTCDate='2012.12.31', UTCTime='23:01:03', WhiteElo='1639', BlackElo='1403', WhiteRatingDiff='+5', BlackRatingDiff='-8', ECO='C00', Opening='French Defense: Normal Variation', TimeControl='600+8', Termination='Normal')\n"
     ]
    }
   ],
   "source": [
    "with open(\"game_data_2013_01.pgn\") as pgn_file:\n",
    "    game = chess.pgn.read_game(pgn_file)\n",
    "\n",
    "print(game.headers)"
   ]
  },
  {
   "cell_type": "markdown",
   "metadata": {},
   "source": [
    "## Quelles features des metadatas sont à garder ?\n",
    "\n",
    "- White\n",
    "- Black\n",
    "- Result\n",
    "- UTCDate\n",
    "- UTCTime\n",
    "- WhiteElo\n",
    "- BlackElo\n",
    "- Opening\n",
    "- TimeControl\n",
    "- Termination"
   ]
  },
  {
   "cell_type": "code",
   "execution_count": 32,
   "metadata": {},
   "outputs": [
    {
     "data": {
      "text/html": [
       "<div>\n",
       "<style scoped>\n",
       "    .dataframe tbody tr th:only-of-type {\n",
       "        vertical-align: middle;\n",
       "    }\n",
       "\n",
       "    .dataframe tbody tr th {\n",
       "        vertical-align: top;\n",
       "    }\n",
       "\n",
       "    .dataframe thead th {\n",
       "        text-align: right;\n",
       "    }\n",
       "</style>\n",
       "<table border=\"1\" class=\"dataframe\">\n",
       "  <thead>\n",
       "    <tr style=\"text-align: right;\">\n",
       "      <th></th>\n",
       "      <th>White</th>\n",
       "      <th>Black</th>\n",
       "      <th>Result</th>\n",
       "      <th>UTCDate</th>\n",
       "      <th>UTCTime</th>\n",
       "      <th>WhiteElo</th>\n",
       "      <th>BlackElo</th>\n",
       "      <th>ECO</th>\n",
       "      <th>Opening</th>\n",
       "      <th>TimeControl</th>\n",
       "      <th>Termination</th>\n",
       "    </tr>\n",
       "  </thead>\n",
       "  <tbody>\n",
       "    <tr>\n",
       "      <th>0</th>\n",
       "      <td>BFG9k</td>\n",
       "      <td>mamalak</td>\n",
       "      <td>1-0</td>\n",
       "      <td>2012.12.31</td>\n",
       "      <td>23:01:03</td>\n",
       "      <td>1639</td>\n",
       "      <td>1403</td>\n",
       "      <td>C00</td>\n",
       "      <td>French Defense: Normal Variation</td>\n",
       "      <td>600+8</td>\n",
       "      <td>Normal</td>\n",
       "    </tr>\n",
       "    <tr>\n",
       "      <th>1</th>\n",
       "      <td>Desmond_Wilson</td>\n",
       "      <td>savinka59</td>\n",
       "      <td>1-0</td>\n",
       "      <td>2012.12.31</td>\n",
       "      <td>23:04:12</td>\n",
       "      <td>1654</td>\n",
       "      <td>1919</td>\n",
       "      <td>D04</td>\n",
       "      <td>Queen's Pawn Game: Colle System, Anti-Colle</td>\n",
       "      <td>480+2</td>\n",
       "      <td>Normal</td>\n",
       "    </tr>\n",
       "    <tr>\n",
       "      <th>2</th>\n",
       "      <td>Kozakmamay007</td>\n",
       "      <td>VanillaShamanilla</td>\n",
       "      <td>1-0</td>\n",
       "      <td>2012.12.31</td>\n",
       "      <td>23:03:15</td>\n",
       "      <td>1643</td>\n",
       "      <td>1747</td>\n",
       "      <td>C50</td>\n",
       "      <td>Four Knights Game: Italian Variation</td>\n",
       "      <td>420+17</td>\n",
       "      <td>Normal</td>\n",
       "    </tr>\n",
       "    <tr>\n",
       "      <th>3</th>\n",
       "      <td>Naitero_Nagasaki</td>\n",
       "      <td>800</td>\n",
       "      <td>0-1</td>\n",
       "      <td>2012.12.31</td>\n",
       "      <td>23:04:57</td>\n",
       "      <td>1824</td>\n",
       "      <td>1973</td>\n",
       "      <td>B12</td>\n",
       "      <td>Caro-Kann Defense: Goldman Variation</td>\n",
       "      <td>60+1</td>\n",
       "      <td>Normal</td>\n",
       "    </tr>\n",
       "    <tr>\n",
       "      <th>4</th>\n",
       "      <td>nichiren1967</td>\n",
       "      <td>Naitero_Nagasaki</td>\n",
       "      <td>0-1</td>\n",
       "      <td>2012.12.31</td>\n",
       "      <td>23:02:37</td>\n",
       "      <td>1765</td>\n",
       "      <td>1815</td>\n",
       "      <td>C00</td>\n",
       "      <td>French Defense: La Bourdonnais Variation</td>\n",
       "      <td>60+1</td>\n",
       "      <td>Normal</td>\n",
       "    </tr>\n",
       "  </tbody>\n",
       "</table>\n",
       "</div>"
      ],
      "text/plain": [
       "              White              Black Result     UTCDate   UTCTime WhiteElo  \\\n",
       "0             BFG9k            mamalak    1-0  2012.12.31  23:01:03     1639   \n",
       "1    Desmond_Wilson          savinka59    1-0  2012.12.31  23:04:12     1654   \n",
       "2     Kozakmamay007  VanillaShamanilla    1-0  2012.12.31  23:03:15     1643   \n",
       "3  Naitero_Nagasaki                800    0-1  2012.12.31  23:04:57     1824   \n",
       "4      nichiren1967   Naitero_Nagasaki    0-1  2012.12.31  23:02:37     1765   \n",
       "\n",
       "  BlackElo  ECO                                      Opening TimeControl  \\\n",
       "0     1403  C00             French Defense: Normal Variation       600+8   \n",
       "1     1919  D04  Queen's Pawn Game: Colle System, Anti-Colle       480+2   \n",
       "2     1747  C50         Four Knights Game: Italian Variation      420+17   \n",
       "3     1973  B12         Caro-Kann Defense: Goldman Variation        60+1   \n",
       "4     1815  C00     French Defense: La Bourdonnais Variation        60+1   \n",
       "\n",
       "  Termination  \n",
       "0      Normal  \n",
       "1      Normal  \n",
       "2      Normal  \n",
       "3      Normal  \n",
       "4      Normal  "
      ]
     },
     "execution_count": 32,
     "metadata": {},
     "output_type": "execute_result"
    }
   ],
   "source": [
    "categories = [\"White\", \"Black\", \"Result\", \"UTCDate\", \"UTCTime\", \"WhiteElo\", \"BlackElo\", \"ECO\", \"Opening\", \"TimeControl\", \"Termination\"]\n",
    "df = pd.DataFrame(columns=tuple(categories))\n",
    "NUMB_GAMES = 1000\n",
    "\n",
    "with open(\"game_data_2013_01.pgn\") as pgn_file:\n",
    "    n_game=1\n",
    "    game = chess.pgn.read_game(pgn_file)\n",
    "    while game and n_game < NUMB_GAMES :\n",
    "        entry = {c:game.headers[c] for c in categories}\n",
    "        df.loc[len(df)] = entry # only use with a RangeIndex!\n",
    "        game = chess.pgn.read_game(pgn_file)\n",
    "        n_game += 1\n",
    "\n",
    "df.head(5)"
   ]
  },
  {
   "cell_type": "code",
   "execution_count": 38,
   "metadata": {},
   "outputs": [
    {
     "data": {
      "text/html": [
       "<div>\n",
       "<style scoped>\n",
       "    .dataframe tbody tr th:only-of-type {\n",
       "        vertical-align: middle;\n",
       "    }\n",
       "\n",
       "    .dataframe tbody tr th {\n",
       "        vertical-align: top;\n",
       "    }\n",
       "\n",
       "    .dataframe thead th {\n",
       "        text-align: right;\n",
       "    }\n",
       "</style>\n",
       "<table border=\"1\" class=\"dataframe\">\n",
       "  <thead>\n",
       "    <tr style=\"text-align: right;\">\n",
       "      <th></th>\n",
       "      <th>White</th>\n",
       "      <th>Black</th>\n",
       "      <th>Result</th>\n",
       "      <th>UTCDate</th>\n",
       "      <th>UTCTime</th>\n",
       "      <th>WhiteElo</th>\n",
       "      <th>BlackElo</th>\n",
       "      <th>ECO</th>\n",
       "      <th>Opening</th>\n",
       "      <th>TimeControl</th>\n",
       "      <th>Termination</th>\n",
       "    </tr>\n",
       "  </thead>\n",
       "  <tbody>\n",
       "    <tr>\n",
       "      <th>0</th>\n",
       "      <td>BFG9k</td>\n",
       "      <td>mamalak</td>\n",
       "      <td>1-0</td>\n",
       "      <td>2012-12-31</td>\n",
       "      <td>23:01:03</td>\n",
       "      <td>1639</td>\n",
       "      <td>1403</td>\n",
       "      <td>C00</td>\n",
       "      <td>French Defense: Normal Variation</td>\n",
       "      <td>600+8</td>\n",
       "      <td>Normal</td>\n",
       "    </tr>\n",
       "    <tr>\n",
       "      <th>1</th>\n",
       "      <td>Desmond_Wilson</td>\n",
       "      <td>savinka59</td>\n",
       "      <td>1-0</td>\n",
       "      <td>2012-12-31</td>\n",
       "      <td>23:04:12</td>\n",
       "      <td>1654</td>\n",
       "      <td>1919</td>\n",
       "      <td>D04</td>\n",
       "      <td>Queen's Pawn Game: Colle System, Anti-Colle</td>\n",
       "      <td>480+2</td>\n",
       "      <td>Normal</td>\n",
       "    </tr>\n",
       "    <tr>\n",
       "      <th>2</th>\n",
       "      <td>Kozakmamay007</td>\n",
       "      <td>VanillaShamanilla</td>\n",
       "      <td>1-0</td>\n",
       "      <td>2012-12-31</td>\n",
       "      <td>23:03:15</td>\n",
       "      <td>1643</td>\n",
       "      <td>1747</td>\n",
       "      <td>C50</td>\n",
       "      <td>Four Knights Game: Italian Variation</td>\n",
       "      <td>420+17</td>\n",
       "      <td>Normal</td>\n",
       "    </tr>\n",
       "    <tr>\n",
       "      <th>3</th>\n",
       "      <td>Naitero_Nagasaki</td>\n",
       "      <td>800</td>\n",
       "      <td>0-1</td>\n",
       "      <td>2012-12-31</td>\n",
       "      <td>23:04:57</td>\n",
       "      <td>1824</td>\n",
       "      <td>1973</td>\n",
       "      <td>B12</td>\n",
       "      <td>Caro-Kann Defense: Goldman Variation</td>\n",
       "      <td>60+1</td>\n",
       "      <td>Normal</td>\n",
       "    </tr>\n",
       "    <tr>\n",
       "      <th>4</th>\n",
       "      <td>nichiren1967</td>\n",
       "      <td>Naitero_Nagasaki</td>\n",
       "      <td>0-1</td>\n",
       "      <td>2012-12-31</td>\n",
       "      <td>23:02:37</td>\n",
       "      <td>1765</td>\n",
       "      <td>1815</td>\n",
       "      <td>C00</td>\n",
       "      <td>French Defense: La Bourdonnais Variation</td>\n",
       "      <td>60+1</td>\n",
       "      <td>Normal</td>\n",
       "    </tr>\n",
       "  </tbody>\n",
       "</table>\n",
       "</div>"
      ],
      "text/plain": [
       "              White              Black Result    UTCDate   UTCTime  WhiteElo  \\\n",
       "0             BFG9k            mamalak    1-0 2012-12-31  23:01:03      1639   \n",
       "1    Desmond_Wilson          savinka59    1-0 2012-12-31  23:04:12      1654   \n",
       "2     Kozakmamay007  VanillaShamanilla    1-0 2012-12-31  23:03:15      1643   \n",
       "3  Naitero_Nagasaki                800    0-1 2012-12-31  23:04:57      1824   \n",
       "4      nichiren1967   Naitero_Nagasaki    0-1 2012-12-31  23:02:37      1765   \n",
       "\n",
       "   BlackElo  ECO                                      Opening TimeControl  \\\n",
       "0      1403  C00             French Defense: Normal Variation       600+8   \n",
       "1      1919  D04  Queen's Pawn Game: Colle System, Anti-Colle       480+2   \n",
       "2      1747  C50         Four Knights Game: Italian Variation      420+17   \n",
       "3      1973  B12         Caro-Kann Defense: Goldman Variation        60+1   \n",
       "4      1815  C00     French Defense: La Bourdonnais Variation        60+1   \n",
       "\n",
       "  Termination  \n",
       "0      Normal  \n",
       "1      Normal  \n",
       "2      Normal  \n",
       "3      Normal  \n",
       "4      Normal  "
      ]
     },
     "execution_count": 38,
     "metadata": {},
     "output_type": "execute_result"
    }
   ],
   "source": [
    "### Conversion données\n",
    "\n",
    "df[[\"White\", \"Black\", \"Result\", \"ECO\",\n",
    "    \"Opening\", \"TimeControl\", \"Termination\"]] = df[[\"White\", \"Black\", \"Result\", \"ECO\",\n",
    "                                                    \"Opening\", \"TimeControl\", \"Termination\"]].astype(str)\n",
    "\n",
    "df.UTCDate = pd.to_datetime(df.UTCDate, format= '%Y.%m.%d')\n",
    "df.UTCTime = pd.to_datetime(df.UTCTime, format= '%H:%M:%S').dt.time\n",
    "\n",
    "df[[\"WhiteElo\", \"BlackElo\"]] = df[[\"WhiteElo\", \"BlackElo\"]].replace(\"?\", np.nan)\n",
    "df.WhiteElo = pd.to_numeric(df.WhiteElo, errors=\"coerce\").astype(\"Int64\")\n",
    "df.BlackElo = pd.to_numeric(df.BlackElo, errors=\"coerce\").astype(\"Int64\")\n",
    "\n",
    "df.head(5)"
   ]
  },
  {
   "cell_type": "markdown",
   "metadata": {},
   "source": [
    "## Visualisation des données"
   ]
  },
  {
   "cell_type": "code",
   "execution_count": 6,
   "metadata": {},
   "outputs": [],
   "source": [
    "import matplotlib.pyplot as plt"
   ]
  },
  {
   "cell_type": "markdown",
   "metadata": {},
   "source": [
    "### ELO équilibrés ?"
   ]
  },
  {
   "cell_type": "code",
   "execution_count": 43,
   "metadata": {},
   "outputs": [
    {
     "data": {
      "image/png": "[encoded data removed]",
      "text/plain": [
       "<Figure size 640x480 with 1 Axes>"
      ]
     },
     "metadata": {},
     "output_type": "display_data"
    }
   ],
   "source": [
    "df[[\"WhiteElo\",\"BlackElo\"]].plot.hist(bins=20, alpha=0.3);"
   ]
  },
  {
   "cell_type": "markdown",
   "metadata": {},
   "source": [
    "### Combien de gambits ?"
   ]
  },
  {
   "cell_type": "code",
   "execution_count": 47,
   "metadata": {},
   "outputs": [
    {
     "data": {
      "text/plain": [
       "np.int64(157)"
      ]
     },
     "execution_count": 47,
     "metadata": {},
     "output_type": "execute_result"
    }
   ],
   "source": [
    "df.Opening.str.contains(\"Gambit\").sum()"
   ]
  }
 ],
 "metadata": {
  "kernelspec": {
   "display_name": "Python 3",
   "language": "python",
   "name": "python3"
  },
  "language_info": {
   "codemirror_mode": {
    "name": "ipython",
    "version": 3
   },
   "file_extension": ".py",
   "mimetype": "text/x-python",
   "name": "python",
   "nbconvert_exporter": "python",
   "pygments_lexer": "ipython3",
   "version": "3.9.6"
  }
 },
 "nbformat": 4,
 "nbformat_minor": 2
}
